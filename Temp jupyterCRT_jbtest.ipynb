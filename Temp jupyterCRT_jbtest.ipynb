{
 "cells": [
  {
   "cell_type": "code",
   "execution_count": null,
   "metadata": {},
   "outputs": [],
   "source": [
    "#import numpy as np\n",
    "#import pandas as pd\n",
    "#import tensorflow as tf\n",
    "\n",
    "## From SQL to DataFrame Pandas\n",
    "#!pip install pyodbc # did not work in colaboratory\n",
    "import pandas as pd\n",
    "import pyodbc\n",
    "\n",
    "#Provider=SQLOLEDB.1;Integrated Security=SSPI;Persist Security Info=True;\n",
    "#Initial Catalog=pricing_archive;Data Source=w12pcgsql1;Use Procedure for Prepare=1;\n",
    "#Auto Translate=True;Packet Size=4096;Workstation ID=PNMACPC788;\n",
    "#Use Encryption for Data=False;Tag with column collation when possible=False\n",
    "\n",
    "#CODE SNIPPETS FROM PNMAC SCRIPT\n",
    "#credentials \n",
    "#sqlserver_db_engine_string = 'mssql+pyodbc://dwmssqlprod1/dw_credit_risk?driver=SQL+Server+Native+Client+11.0' # Change is applicable    \n",
    "#sqlserver_db_engine = sqlalchemy.create_engine(sqlserver_db_engine_string)\n",
    "\n",
    "#SQL = \"SELECT TOP 1 UserId, CurrentPassword FROM srd.dbo.FHACaseQryUsrPswd WHERE UserId='MMH012' \"\n",
    "#conn = pyodbc.connect('DRIVER={SQL Server};SERVER={w08-vm-sql-3};DATABASE=dw_credit_risk;UID=;PWD=')\n",
    "#cursor = conn.cursor()\n",
    "#cursor.execute(SQL)\n",
    "#credentials_dataset = cursor.fetchall()\n",
    "\n",
    "#portion from web\n",
    "#sql_conn = pyodbc.connect('DRIVER={ODBC Driver 13 for SQL Server};\n",
    "                            #SERVER=SQLSERVER2017;\n",
    "                            #DATABASE=Adventureworks;\n",
    "                            #Trusted_Connection=yes') \n",
    "\n",
    "sql_conn = pyodbc.connect('DRIVER={SQL Server};SERVER={w12pcgsql1};DATABASE=pricing_archive;UID=;PWD=') \n",
    "sql_query = \"SELECT bbl.loannumber,bbl.[noteamount] FROM pricing_archive..bulk_bid_loans bbl\"\n",
    "#cursor = conn.cursor()\n",
    "#cursor.execute(sql_query)\n",
    "df = pd.read_sql(sql_query, sql_conn)\n",
    "\n",
    "df.head(3)"
   ]
  },
  {
   "cell_type": "code",
   "execution_count": null,
   "metadata": {},
   "outputs": [],
   "source": []
  }
 ],
 "metadata": {
  "kernelspec": {
   "display_name": "Python 3",
   "language": "python",
   "name": "python3"
  },
  "language_info": {
   "codemirror_mode": {
    "name": "ipython",
    "version": 3
   },
   "file_extension": ".py",
   "mimetype": "text/x-python",
   "name": "python",
   "nbconvert_exporter": "python",
   "pygments_lexer": "ipython3",
   "version": "3.7.3"
  }
 },
 "nbformat": 4,
 "nbformat_minor": 4
}
